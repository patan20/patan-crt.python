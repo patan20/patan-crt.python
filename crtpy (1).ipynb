{
 "cells": [
  {
   "cell_type": "code",
   "execution_count": 2,
   "id": "84dd34cf-605c-4d5f-82e3-f2b1661c9114",
   "metadata": {},
   "outputs": [
    {
     "name": "stdin",
     "output_type": "stream",
     "text": [
      "Enter the first number: 10\n",
      "Enter the second number: 20\n"
     ]
    },
    {
     "name": "stdout",
     "output_type": "stream",
     "text": [
      "Summation: 30\n",
      "Summation:30\n"
     ]
    }
   ],
   "source": [
    "num1=int(input(\"Enter the first number:\"))\n",
    "num2=int(input(\"Enter the second number:\"))\n",
    "print(\"Summation:\",num1+num2)\n",
    "print(f\"Summation:{num1+num2}\")"
   ]
  },
  {
   "cell_type": "code",
   "execution_count": 7,
   "id": "4a6664d5-6f55-49b1-8ddc-ecb73df62d57",
   "metadata": {},
   "outputs": [
    {
     "name": "stdin",
     "output_type": "stream",
     "text": [
      "Enter the integer: 19\n"
     ]
    },
    {
     "name": "stdout",
     "output_type": "stream",
     "text": [
      "Number\n",
      "Number\n"
     ]
    }
   ],
   "source": [
    "num=int(input('Enter the integer:'))\n",
    "if num>=9 and num<=9:\n",
    "     print(\"Digit\")\n",
    "else:\n",
    "    print(\"Number\")\n",
    "res=\"Digit\" if(num>=9 and num<=9) else \"Number\"\n",
    "print(res)\n",
    "    "
   ]
  },
  {
   "cell_type": "code",
   "execution_count": 8,
   "id": "7322e6be-6b34-4834-895f-5c52bfc696e3",
   "metadata": {},
   "outputs": [
    {
     "name": "stdin",
     "output_type": "stream",
     "text": [
      "Enter the first integer: 5\n",
      "Enter the second integer: 9\n"
     ]
    },
    {
     "name": "stdout",
     "output_type": "stream",
     "text": [
      "9 is largest number.\n",
      "9 is largest number.\n"
     ]
    }
   ],
   "source": [
    "num1=int(input('Enter the first integer:'))\n",
    "num2=int(input('Enter the second integer:'))\n",
    "if(num1>num2):\n",
    "    print(f\"{num1} is largest number.\")\n",
    "else:\n",
    "    print(f\"{num2} is largest number.\")\n",
    "res=num1 if(num1>num2) else num2\n",
    "print(f\"{res} is largest number.\")"
   ]
  },
  {
   "cell_type": "code",
   "execution_count": 9,
   "id": "34101208-2ed4-4038-90b4-dc246c826fc2",
   "metadata": {},
   "outputs": [
    {
     "name": "stdin",
     "output_type": "stream",
     "text": [
      "Enter the first number: 10\n",
      "Enter the second number: 5\n"
     ]
    },
    {
     "name": "stdout",
     "output_type": "stream",
     "text": [
      "5 is smallest number.\n",
      "10 is smallest number\n"
     ]
    }
   ],
   "source": [
    "num1=int(input(\"Enter the first number:\"))\n",
    "num2=int(input(\"Enter the second number:\"))\n",
    "if(num1<num2):\n",
    "    print(f\"{num1} is smallest number.\")\n",
    "else:\n",
    "    print(f\"{num2} is smallest number.\")\n",
    "res=num1 if(num1>num2) else num2\n",
    "print(f\"{res} is smallest number\")"
   ]
  },
  {
   "cell_type": "code",
   "execution_count": 10,
   "id": "47d7a17a-277a-4d3e-82dc-d2f6062151a6",
   "metadata": {},
   "outputs": [
    {
     "name": "stdin",
     "output_type": "stream",
     "text": [
      "Enter the first number: 6\n",
      "Enter the second number: 8\n",
      "Enter the third number: 9\n"
     ]
    },
    {
     "name": "stdout",
     "output_type": "stream",
     "text": [
      "9 is the largest number\n"
     ]
    }
   ],
   "source": [
    "num1=int(input('Enter the first number:'))\n",
    "num2=int(input('Enter the second number:'))\n",
    "num3=int(input('Enter the third number:'))\n",
    "largest=num1 if(num1>num2 and num1>num3) else num2\n",
    "res=num3 if(num3>num1 and num3>num2) else largest\n",
    "print(f\"{res} is the largest number\")"
   ]
  },
  {
   "cell_type": "code",
   "execution_count": 11,
   "id": "62c12979-d8ba-4982-ad9f-c1a510024efa",
   "metadata": {},
   "outputs": [
    {
     "name": "stdin",
     "output_type": "stream",
     "text": [
      "Enter the integer: 40\n"
     ]
    },
    {
     "name": "stdout",
     "output_type": "stream",
     "text": [
      "Two digit number\n"
     ]
    }
   ],
   "source": [
    "num=int(input('Enter the integer:'))\n",
    "if((num>=10 and num<=99 or (num>=-99 and num<=-10))):\n",
    "    print(\"Two digit number\")\n",
    "else:\n",
    "    print(\"Not a two digit number\")"
   ]
  },
  {
   "cell_type": "code",
   "execution_count": 12,
   "id": "15903daf-0688-4518-aa70-9b29f81bf56e",
   "metadata": {},
   "outputs": [
    {
     "name": "stdin",
     "output_type": "stream",
     "text": [
      "Enter your age: 20\n"
     ]
    },
    {
     "name": "stdout",
     "output_type": "stream",
     "text": [
      "You are eligible to vote\n"
     ]
    }
   ],
   "source": [
    "age=int(input('Enter your age:'))\n",
    "if age>=18:\n",
    "    print(\"You are eligible to vote\")\n",
    "else:\n",
    "    print(\"You are not eligible to vote\")"
   ]
  },
  {
   "cell_type": "code",
   "execution_count": 13,
   "id": "eb6c6d52-837f-4ba5-9782-78de5e4b905e",
   "metadata": {},
   "outputs": [
    {
     "name": "stdin",
     "output_type": "stream",
     "text": [
      "Enter an interger: 6\n"
     ]
    },
    {
     "name": "stdout",
     "output_type": "stream",
     "text": [
      "6 is an even number\n"
     ]
    }
   ],
   "source": [
    "num=int(input(\"Enter an interger:\"))\n",
    "if num%2==0:\n",
    "    print(f\"{num} is an even number\")\n",
    "else:\n",
    "    print(f\"{num} is an odd number\")"
   ]
  },
  {
   "cell_type": "code",
   "execution_count": 14,
   "id": "be538b22-bab3-4174-bd2f-4ffb7814bae3",
   "metadata": {},
   "outputs": [
    {
     "name": "stdin",
     "output_type": "stream",
     "text": [
      "Enter an integer: 15\n"
     ]
    },
    {
     "name": "stdout",
     "output_type": "stream",
     "text": [
      "15 is a multiple of both 3 and 5\n"
     ]
    }
   ],
   "source": [
    "num=int(input('Enter an integer:'))\n",
    "if num%3==0 and num%5==0:\n",
    "    print(f\"{num} is a multiple of both 3 and 5\")\n",
    "else:\n",
    "    print(f\"{num} is not a multiple of both 3 and 5\")"
   ]
  },
  {
   "cell_type": "code",
   "execution_count": 15,
   "id": "8da8c32d-f258-4ca8-b66d-d3447c004bc9",
   "metadata": {},
   "outputs": [
    {
     "name": "stdin",
     "output_type": "stream",
     "text": [
      "Enter month number: 8\n"
     ]
    },
    {
     "name": "stdout",
     "output_type": "stream",
     "text": [
      "Valid month number\n"
     ]
    }
   ],
   "source": [
    "month=int(input('Enter month number:'))\n",
    "if 1<= month <=12:\n",
    "    print(\"Valid month number\")\n",
    "else:\n",
    "    print(\"Invalid month number\")"
   ]
  },
  {
   "cell_type": "markdown",
   "id": "2f57595d-92b2-4255-8bf6-bb17c317fcaa",
   "metadata": {},
   "source": [
    "# write a python program to read an integer value as input and print FizzBuzz if it is divisible by 3 and 5 \n",
    "Fizz----->3,Buzz------>5"
   ]
  },
  {
   "cell_type": "code",
   "execution_count": 9,
   "id": "8bd52aba-0eea-4d62-8563-675d24c3a497",
   "metadata": {},
   "outputs": [
    {
     "name": "stdin",
     "output_type": "stream",
     "text": [
      "Enter a number: 5\n"
     ]
    },
    {
     "name": "stdout",
     "output_type": "stream",
     "text": [
      "Buzz\n"
     ]
    }
   ],
   "source": [
    "num=int(input('Enter a number:'))\n",
    "if num%3==0 and num%5==0:\n",
    "    print(\"FizzBuzz\")\n",
    "elif num%3==0:\n",
    "    print(\"Fizz\")\n",
    "elif num%5==0:\n",
    "    print(\"Buzz\")\n",
    "else:\n",
    "    print(num)"
   ]
  },
  {
   "cell_type": "code",
   "execution_count": 16,
   "id": "9803e2bf-1486-49cc-9eb5-dc2169550872",
   "metadata": {},
   "outputs": [
    {
     "name": "stdin",
     "output_type": "stream",
     "text": [
      "Enter the amount: 1234\n"
     ]
    },
    {
     "name": "stdout",
     "output_type": "stream",
     "text": [
      "500------------>2\n",
      "200------------>1\n",
      "100------------>0\n",
      "50------------->0\n",
      "20------------->1\n",
      "10------------->1\n",
      "5-------------->0\n",
      "2-------------->2\n",
      "1-------------->0\n"
     ]
    }
   ],
   "source": [
    "amount=int(input('Enter the amount:'))\n",
    "print(f\"500------------>{amount//500}\")\n",
    "amount=amount%500\n",
    "print(f\"200------------>{amount//200}\")\n",
    "amount=amount%200\n",
    "print(f\"100------------>{amount//100}\")\n",
    "amount=amount%100\n",
    "print(f\"50------------->{amount//50}\")\n",
    "amount=amount%50\n",
    "print(f\"20------------->{amount//20}\")\n",
    "amount=amount%20\n",
    "print(f\"10------------->{amount//10}\")\n",
    "amount=amount%10\n",
    "print(f\"5-------------->{amount//5}\")\n",
    "amount=amount%5\n",
    "print(f\"2-------------->{amount//2}\")\n",
    "amount=amount%2\n",
    "print(f\"1-------------->{amount//1}\")\n",
    "amount=amount%1"
   ]
  },
  {
   "cell_type": "code",
   "execution_count": 1,
   "id": "210a358f-22c4-468a-bb83-28088bf18344",
   "metadata": {},
   "outputs": [
    {
     "name": "stdin",
     "output_type": "stream",
     "text": [
      "Enter the amount: 4000\n"
     ]
    },
    {
     "name": "stdout",
     "output_type": "stream",
     "text": [
      "Withdrawal successful\n"
     ]
    }
   ],
   "source": [
    "amount=int(input(\"Enter the amount:\"))\n",
    "account_balance=5000\n",
    "if(amount<=account_balance and amount%100==0):\n",
    "    print(\"Withdrawal successful\")\n",
    "else:\n",
    "    print(\"insufficient balance\")"
   ]
  },
  {
   "cell_type": "code",
   "execution_count": 3,
   "id": "c6226895-e0b8-4b5e-83a6-4ac0869c25a4",
   "metadata": {},
   "outputs": [
    {
     "name": "stdin",
     "output_type": "stream",
     "text": [
      "Enter the traffic light color red\n"
     ]
    },
    {
     "name": "stdout",
     "output_type": "stream",
     "text": [
      "stop immediately\n"
     ]
    }
   ],
   "source": [
    "light_color=input(\"Enter the traffic light color\").lower()\n",
    "if light_color==\"red\":\n",
    "    print(\"stop immediately\")\n",
    "elif light_color==\"yellow\":\n",
    "    print(\"Get ready to move\")\n",
    "elif light_color==\"green\":\n",
    "    print(\"you can go\")\n",
    "else:\n",
    "    print(\"Invalid input\")"
   ]
  },
  {
   "cell_type": "code",
   "execution_count": 4,
   "id": "4e87ec60-2ad3-4e0d-95d7-718b6b34423c",
   "metadata": {},
   "outputs": [
    {
     "name": "stdin",
     "output_type": "stream",
     "text": [
      "Enter your age: 400\n"
     ]
    },
    {
     "name": "stdout",
     "output_type": "stream",
     "text": [
      "Ticket price:300\n"
     ]
    }
   ],
   "source": [
    "age=int(input(\"Enter your age:\"))\n",
    "if age<12:\n",
    "    print(\"Ticket price:150\")\n",
    "elif 12<= age<=18:\n",
    "    print(\"Ticket price:200\")\n",
    "else:\n",
    "    print(\"Ticket price:300\")\n",
    "    \n",
    "    "
   ]
  },
  {
   "cell_type": "code",
   "execution_count": 10,
   "id": "54510ca9-8c35-4afb-9352-9a45622e2e52",
   "metadata": {},
   "outputs": [
    {
     "name": "stdin",
     "output_type": "stream",
     "text": [
      "Enter the number of hours worked: 9\n"
     ]
    },
    {
     "name": "stdout",
     "output_type": "stream",
     "text": [
      "No overtime pay\n"
     ]
    }
   ],
   "source": [
    "hours_worked=int(input(\"Enter the number of hours worked:\"))\n",
    "if hours_worked<8:\n",
    "    overtime_hours=hours_worked-8\n",
    "    overtime_pay=overtime_hours*100\n",
    "    print(\"overtime pay:{overtime_pay}\")\n",
    "else:\n",
    "    print(\"No overtime pay\")\n"
   ]
  },
  {
   "cell_type": "code",
   "execution_count": 13,
   "id": "0d194612-a89e-4c45-8b5a-0cc9279c77de",
   "metadata": {},
   "outputs": [
    {
     "name": "stdin",
     "output_type": "stream",
     "text": [
      "Enter total bill amount 1200\n"
     ]
    },
    {
     "name": "stdout",
     "output_type": "stream",
     "text": [
      "original bill: 1200.0\n",
      "Final amount to pay: 1080.0\n"
     ]
    }
   ],
   "source": [
    "bill=float(input(\"Enter total bill amount\"))\n",
    "if bill>3500:\n",
    "    discount=bill*0.05\n",
    "elif bill>1000:\n",
    "    discount=bill*0.10\n",
    "else:\n",
    "    discount=0\n",
    "final_amount=bill-discount\n",
    "print(\"original bill:\",bill)\n",
    "print(\"Final amount to pay:\",final_amount)\n",
    "    "
   ]
  },
  {
   "cell_type": "code",
   "execution_count": 14,
   "id": "a4d62ff3-e258-4bef-946e-d1726ccfdd30",
   "metadata": {},
   "outputs": [
    {
     "name": "stdin",
     "output_type": "stream",
     "text": [
      "Enter the number of hours since you last drank water: 5\n"
     ]
    },
    {
     "name": "stdout",
     "output_type": "stream",
     "text": [
      "You are dehydrated!Drink water now!\n"
     ]
    }
   ],
   "source": [
    "hours=int(input(\"Enter the number of hours since you last drank water:\"))\n",
    "if hours>=4:\n",
    "    print(\"You are dehydrated!Drink water now!\")\n",
    "elif 2<=hours<=3:\n",
    "    print(\"Drink a glass of water\")\n",
    "else:\n",
    "    print(\"You are fine\")"
   ]
  },
  {
   "cell_type": "code",
   "execution_count": 17,
   "id": "7ecd3698-c85f-48da-b587-1b3ff6492a32",
   "metadata": {},
   "outputs": [
    {
     "name": "stdout",
     "output_type": "stream",
     "text": [
      "[10, 20, 30, 40, 50] <class 'list'>\n",
      "(10, 20, 30, 40, 50) <class 'tuple'>\n",
      "{50, 20, 40, 10, 30} <class 'set'>\n"
     ]
    }
   ],
   "source": [
    "List=[10,20,30,40,50]\n",
    "Tuple=(10,20,30,40,50)\n",
    "Set={10,20,30,40,50}\n",
    "print(List,type(List))\n",
    "print(Tuple,type(Tuple))\n",
    "print(Set,type(Set))"
   ]
  },
  {
   "cell_type": "code",
   "execution_count": 19,
   "id": "a43930f9-d2e0-481e-92a9-ec2ff47dde02",
   "metadata": {},
   "outputs": [
    {
     "name": "stdout",
     "output_type": "stream",
     "text": [
      "range(0, 10)\n",
      "<class 'range'>\n"
     ]
    }
   ],
   "source": [
    "#range(stop)\n",
    "#range(start,stop)\n",
    "#range(start,stop,stepsize)\n",
    "R1=range(10)\n",
    "print(R1)\n",
    "print(type(R1))"
   ]
  },
  {
   "cell_type": "code",
   "execution_count": 20,
   "id": "d5167dc9-c3ea-42bb-8340-9fb81ee13918",
   "metadata": {},
   "outputs": [
    {
     "name": "stdout",
     "output_type": "stream",
     "text": [
      "0\n",
      "1\n",
      "2\n",
      "3\n",
      "4\n",
      "5\n",
      "6\n",
      "7\n",
      "8\n",
      "9\n"
     ]
    }
   ],
   "source": [
    "for i in range(10):\n",
    "    print(i)"
   ]
  },
  {
   "cell_type": "code",
   "execution_count": 21,
   "id": "c3853d4a-1d62-459c-bc33-e9ef5bab06d1",
   "metadata": {},
   "outputs": [
    {
     "name": "stdout",
     "output_type": "stream",
     "text": [
      "10\n",
      "11\n",
      "12\n",
      "13\n",
      "14\n",
      "15\n"
     ]
    }
   ],
   "source": [
    "for i in range(10,16):\n",
    "    print(i)"
   ]
  },
  {
   "cell_type": "code",
   "execution_count": 22,
   "id": "44ec763b-a7e9-494b-958d-71bc5f0cbc51",
   "metadata": {},
   "outputs": [
    {
     "name": "stdout",
     "output_type": "stream",
     "text": [
      "11\n",
      "12\n",
      "13\n",
      "14\n",
      "15\n"
     ]
    }
   ],
   "source": [
    "for i in range(11,16):\n",
    "    print(i)"
   ]
  },
  {
   "cell_type": "code",
   "execution_count": 2,
   "id": "003cb566-812e-4fec-976f-db077cace89d",
   "metadata": {},
   "outputs": [
    {
     "name": "stdin",
     "output_type": "stream",
     "text": [
      "Enter the integer value: 33\n"
     ]
    },
    {
     "name": "stdout",
     "output_type": "stream",
     "text": [
      "Natural Numbers from 1 to 33:\n",
      "1\n",
      "2\n",
      "3\n",
      "4\n",
      "5\n",
      "6\n",
      "7\n",
      "8\n",
      "9\n",
      "10\n",
      "11\n",
      "12\n",
      "13\n",
      "14\n",
      "15\n",
      "16\n",
      "17\n",
      "18\n",
      "19\n",
      "20\n",
      "21\n",
      "22\n",
      "23\n",
      "24\n",
      "25\n",
      "26\n",
      "27\n",
      "28\n",
      "29\n",
      "30\n",
      "31\n",
      "32\n",
      "33\n"
     ]
    }
   ],
   "source": [
    "n=int(input('Enter the integer value:'))\n",
    "print(f\"Natural Numbers from 1 to {n}:\")\n",
    "for i in range(1,n+1):\n",
    "    print(i)"
   ]
  },
  {
   "cell_type": "markdown",
   "id": "096629d0-c97e-4e7e-bc6e-c856a5e774ea",
   "metadata": {},
   "source": [
    " # write a python program to print natural numbers from n to 1"
   ]
  },
  {
   "cell_type": "code",
   "execution_count": 4,
   "id": "952fdfe5-e2c3-49e3-8f91-aa1b44175e8f",
   "metadata": {},
   "outputs": [
    {
     "name": "stdin",
     "output_type": "stream",
     "text": [
      "Enter the integer value: 65\n"
     ]
    },
    {
     "name": "stdout",
     "output_type": "stream",
     "text": [
      "Natural Numbers from 1 to 65:\n",
      "65\n",
      "64\n",
      "63\n",
      "62\n",
      "61\n",
      "60\n",
      "59\n",
      "58\n",
      "57\n",
      "56\n",
      "55\n",
      "54\n",
      "53\n",
      "52\n",
      "51\n",
      "50\n",
      "49\n",
      "48\n",
      "47\n",
      "46\n",
      "45\n",
      "44\n",
      "43\n",
      "42\n",
      "41\n",
      "40\n",
      "39\n",
      "38\n",
      "37\n",
      "36\n",
      "35\n",
      "34\n",
      "33\n",
      "32\n",
      "31\n",
      "30\n",
      "29\n",
      "28\n",
      "27\n",
      "26\n",
      "25\n",
      "24\n",
      "23\n",
      "22\n",
      "21\n",
      "20\n",
      "19\n",
      "18\n",
      "17\n",
      "16\n",
      "15\n",
      "14\n",
      "13\n",
      "12\n",
      "11\n",
      "10\n",
      "9\n",
      "8\n",
      "7\n",
      "6\n",
      "5\n",
      "4\n",
      "3\n",
      "2\n",
      "1\n"
     ]
    }
   ],
   "source": [
    "n=int(input('Enter the integer value:'))\n",
    "print(f\"Natural Numbers from 1 to {n}:\")\n",
    "for i in range(n,0,-1):\n",
    "    print(i)\n"
   ]
  },
  {
   "cell_type": "code",
   "execution_count": 6,
   "id": "803eb93a-bea4-4ff5-81ef-1ae31c391c1d",
   "metadata": {},
   "outputs": [
    {
     "name": "stdin",
     "output_type": "stream",
     "text": [
      "Enter the integer value: 66\n"
     ]
    },
    {
     "name": "stdout",
     "output_type": "stream",
     "text": [
      "Even Numbers from 1 to 66:\n",
      "2\n",
      "4\n",
      "6\n",
      "8\n",
      "10\n",
      "12\n",
      "14\n",
      "16\n",
      "18\n",
      "20\n",
      "22\n",
      "24\n",
      "26\n",
      "28\n",
      "30\n",
      "32\n",
      "34\n",
      "36\n",
      "38\n",
      "40\n",
      "42\n",
      "44\n",
      "46\n",
      "48\n",
      "50\n",
      "52\n",
      "54\n",
      "56\n",
      "58\n",
      "60\n",
      "62\n",
      "64\n",
      "66\n"
     ]
    }
   ],
   "source": [
    "n=int(input('Enter the integer value:'))\n",
    "print(f\"Even Numbers from 1 to {n}:\")\n",
    "for i in range(2,n+1,2):\n",
    "    print(i)"
   ]
  },
  {
   "cell_type": "code",
   "execution_count": null,
   "id": "70a8f15e-eb8a-441f-adc6-834ba84a9b32",
   "metadata": {},
   "outputs": [],
   "source": []
  },
  {
   "cell_type": "code",
   "execution_count": 6,
   "id": "747f1f95-7758-403f-8291-78dae012a592",
   "metadata": {},
   "outputs": [
    {
     "name": "stdin",
     "output_type": "stream",
     "text": [
      "Enter the integer value: 66\n"
     ]
    },
    {
     "name": "stdout",
     "output_type": "stream",
     "text": [
      "Even Numbers from 1 to 66:\n",
      "2\n",
      "4\n",
      "6\n",
      "8\n",
      "10\n",
      "12\n",
      "14\n",
      "16\n",
      "18\n",
      "20\n",
      "22\n",
      "24\n",
      "26\n",
      "28\n",
      "30\n",
      "32\n",
      "34\n",
      "36\n",
      "38\n",
      "40\n",
      "42\n",
      "44\n",
      "46\n",
      "48\n",
      "50\n",
      "52\n",
      "54\n",
      "56\n",
      "58\n",
      "60\n",
      "62\n",
      "64\n",
      "66\n"
     ]
    }
   ],
   "source": [
    "n=int(input('Enter the integer value:'))\n",
    "print(f\"Even Numbers from 1 to {n}:\")\n",
    "for i in range(2,n+1,2):\n",
    "    print(i)"
   ]
  },
  {
   "cell_type": "code",
   "execution_count": 6,
   "id": "a84413ef-2d71-490d-bbd6-23abed40f0bb",
   "metadata": {
    "scrolled": true
   },
   "outputs": [
    {
     "name": "stdin",
     "output_type": "stream",
     "text": [
      "Enter the integer value: 66\n"
     ]
    },
    {
     "name": "stdout",
     "output_type": "stream",
     "text": [
      "Even Numbers from 1 to 66:\n",
      "2\n",
      "4\n",
      "6\n",
      "8\n",
      "10\n",
      "12\n",
      "14\n",
      "16\n",
      "18\n",
      "20\n",
      "22\n",
      "24\n",
      "26\n",
      "28\n",
      "30\n",
      "32\n",
      "34\n",
      "36\n",
      "38\n",
      "40\n",
      "42\n",
      "44\n",
      "46\n",
      "48\n",
      "50\n",
      "52\n",
      "54\n",
      "56\n",
      "58\n",
      "60\n",
      "62\n",
      "64\n",
      "66\n"
     ]
    }
   ],
   "source": [
    "n=int(input('Enter the integer value:'))\n",
    "print(f\"Even Numbers from 1 to {n}:\")\n",
    "for i in range(2,n+1,2):\n",
    "    print(i)"
   ]
  },
  {
   "cell_type": "code",
   "execution_count": 7,
   "id": "7d2b8bdf-bded-4de4-9260-e91b1ebcfa7c",
   "metadata": {},
   "outputs": [
    {
     "name": "stdin",
     "output_type": "stream",
     "text": [
      "Enter the integer value: 9\n"
     ]
    },
    {
     "name": "stdout",
     "output_type": "stream",
     "text": [
      "Natural Numbers from 1 to 9:\n",
      "9\n",
      "8\n",
      "7\n",
      "6\n",
      "5\n",
      "4\n",
      "3\n",
      "2\n",
      "1\n"
     ]
    }
   ],
   "source": [
    "n=int(input('Enter the integer value:'))\n",
    "print(f\"Natural Numbers from 1 to {n}:\")\n",
    "for i in range(n,0,-1):\n",
    "    print(i)"
   ]
  },
  {
   "cell_type": "markdown",
   "id": "edaf4655-64d7-4692-a484-4ba70b085454",
   "metadata": {},
   "source": [
    "# write a pp to print odd numbers from 1 to n"
   ]
  },
  {
   "cell_type": "code",
   "execution_count": 18,
   "id": "5dfac11a-987a-4d3d-bb0f-8ce27c370370",
   "metadata": {},
   "outputs": [
    {
     "name": "stdin",
     "output_type": "stream",
     "text": [
      "Enter the integer value: 55\n"
     ]
    },
    {
     "name": "stdout",
     "output_type": "stream",
     "text": [
      "Odd Numbers from 1 to 55:\n",
      "1\n",
      "3\n",
      "5\n",
      "7\n",
      "9\n",
      "11\n",
      "13\n",
      "15\n",
      "17\n",
      "19\n",
      "21\n",
      "23\n",
      "25\n",
      "27\n",
      "29\n",
      "31\n",
      "33\n",
      "35\n",
      "37\n",
      "39\n",
      "41\n",
      "43\n",
      "45\n",
      "47\n",
      "49\n",
      "51\n",
      "53\n",
      "55\n"
     ]
    }
   ],
   "source": [
    "n=int(input('Enter the integer value:'))\n",
    "print(f\"Odd Numbers from 1 to {n}:\")\n",
    "for i in range(1,n+2,2):\n",
    "    print(i)\n",
    "    \n",
    "    "
   ]
  },
  {
   "cell_type": "code",
   "execution_count": 20,
   "id": "5337af41-033d-47d2-9bf9-6d8dbb70c63e",
   "metadata": {},
   "outputs": [
    {
     "name": "stdin",
     "output_type": "stream",
     "text": [
      "Enter the integer value: 87\n"
     ]
    },
    {
     "name": "stdout",
     "output_type": "stream",
     "text": [
      "Odd Numbers from 1 to {n}:\n",
      "87\n",
      "85\n",
      "83\n",
      "81\n",
      "79\n",
      "77\n",
      "75\n",
      "73\n",
      "71\n",
      "69\n",
      "67\n",
      "65\n",
      "63\n",
      "61\n",
      "59\n",
      "57\n",
      "55\n",
      "53\n",
      "51\n",
      "49\n",
      "47\n",
      "45\n",
      "43\n",
      "41\n",
      "39\n",
      "37\n",
      "35\n",
      "33\n",
      "31\n",
      "29\n",
      "27\n",
      "25\n",
      "23\n",
      "21\n",
      "19\n",
      "17\n",
      "15\n",
      "13\n",
      "11\n",
      "9\n",
      "7\n",
      "5\n",
      "3\n",
      "1\n"
     ]
    }
   ],
   "source": [
    "n=int(input('Enter the integer value:'))\n",
    "print(\"Odd Numbers from 1 to {n}:\")\n",
    "for i in range(n,0,-2):\n",
    "    print(i)"
   ]
  },
  {
   "cell_type": "code",
   "execution_count": 16,
   "id": "8bb04c8d-d420-422e-b684-b67f549a55e2",
   "metadata": {},
   "outputs": [
    {
     "name": "stdin",
     "output_type": "stream",
     "text": [
      "Enter the value of n: 20\n"
     ]
    },
    {
     "name": "stdout",
     "output_type": "stream",
     "text": [
      "Multiplication Table of 20:\n",
      "20 x 1 =20\n",
      "20 x 2 =20\n",
      "20 x 3 =20\n",
      "20 x 4 =20\n",
      "20 x 5 =20\n",
      "20 x 6 =20\n",
      "20 x 7 =20\n",
      "20 x 8 =20\n",
      "20 x 9 =20\n",
      "20 x 10 =20\n"
     ]
    }
   ],
   "source": [
    "n=int(input('Enter the value of n:'))\n",
    "print(f\"Multiplication Table of {n}:\")\n",
    "for i in range(1,11):\n",
    "    print(f\"{n} x {i} ={n*1}\")\n",
    "    "
   ]
  },
  {
   "cell_type": "markdown",
   "id": "c9d8d3c1-113a-4765-a3de-7aa612bdb0e8",
   "metadata": {},
   "source": [
    "# write a python program to print the reverse multiplication of n"
   ]
  },
  {
   "cell_type": "code",
   "execution_count": 4,
   "id": "f15fcc1f-a573-4c4c-b800-bbeb851ac87e",
   "metadata": {},
   "outputs": [
    {
     "name": "stdin",
     "output_type": "stream",
     "text": [
      "Enter the value of n: 16\n"
     ]
    },
    {
     "name": "stdout",
     "output_type": "stream",
     "text": [
      "Multiplication Table of 16:\n",
      "16 x 10 =160\n",
      "16 x 9 =144\n",
      "16 x 8 =128\n",
      "16 x 7 =112\n",
      "16 x 6 =96\n",
      "16 x 5 =80\n",
      "16 x 4 =64\n",
      "16 x 3 =48\n",
      "16 x 2 =32\n",
      "16 x 1 =16\n"
     ]
    }
   ],
   "source": [
    "n=int(input('Enter the value of n:'))\n",
    "print(f\"Multiplication Table of {n}:\")\n",
    "for i in range(10,0,-1):\n",
    "    print(f\"{n} x {i} ={n*i}\")"
   ]
  },
  {
   "cell_type": "markdown",
   "id": "31136a62-8765-482a-befa-5091c16fac88",
   "metadata": {},
   "source": [
    "# write a python program to print the multiplication tables from 1 to n where as n is an integer input from the user"
   ]
  },
  {
   "cell_type": "code",
   "execution_count": 7,
   "id": "9068af29-83bb-4acd-958f-d58a8b77739c",
   "metadata": {},
   "outputs": [
    {
     "name": "stdin",
     "output_type": "stream",
     "text": [
      "Enter the value of n: 5\n"
     ]
    },
    {
     "name": "stdout",
     "output_type": "stream",
     "text": [
      "Multiplication Table of 5:\n",
      "-----Table of 1-----\n",
      "1 x1 =1\n",
      "1 x2 =2\n",
      "1 x3 =3\n",
      "1 x4 =4\n",
      "1 x5 =5\n",
      "1 x6 =6\n",
      "1 x7 =7\n",
      "1 x8 =8\n",
      "1 x9 =9\n",
      "1 x10 =10\n",
      "\n",
      "-----Table of 2-----\n",
      "2 x1 =2\n",
      "2 x2 =4\n",
      "2 x3 =6\n",
      "2 x4 =8\n",
      "2 x5 =10\n",
      "2 x6 =12\n",
      "2 x7 =14\n",
      "2 x8 =16\n",
      "2 x9 =18\n",
      "2 x10 =20\n",
      "\n",
      "-----Table of 3-----\n",
      "3 x1 =3\n",
      "3 x2 =6\n",
      "3 x3 =9\n",
      "3 x4 =12\n",
      "3 x5 =15\n",
      "3 x6 =18\n",
      "3 x7 =21\n",
      "3 x8 =24\n",
      "3 x9 =27\n",
      "3 x10 =30\n",
      "\n",
      "-----Table of 4-----\n",
      "4 x1 =4\n",
      "4 x2 =8\n",
      "4 x3 =12\n",
      "4 x4 =16\n",
      "4 x5 =20\n",
      "4 x6 =24\n",
      "4 x7 =28\n",
      "4 x8 =32\n",
      "4 x9 =36\n",
      "4 x10 =40\n",
      "\n",
      "-----Table of 5-----\n",
      "5 x1 =5\n",
      "5 x2 =10\n",
      "5 x3 =15\n",
      "5 x4 =20\n",
      "5 x5 =25\n",
      "5 x6 =30\n",
      "5 x7 =35\n",
      "5 x8 =40\n",
      "5 x9 =45\n",
      "5 x10 =50\n",
      "\n"
     ]
    }
   ],
   "source": [
    "n=int(input('Enter the value of n:'))\n",
    "print(f\"Multiplication Table of {n}:\")\n",
    "for i in range(1,n+1):\n",
    "    print(f\"-----Table of {i}-----\")\n",
    "    for j in range(1,11):\n",
    "        print(f\"{i} x{j} ={i*j}\")\n",
    "    print()    "
   ]
  },
  {
   "cell_type": "code",
   "execution_count": null,
   "id": "a9e33612-53ca-4fb2-911d-504fb87fbdf4",
   "metadata": {},
   "outputs": [],
   "source": []
  },
  {
   "cell_type": "code",
   "execution_count": null,
   "id": "0d57d0df-705d-465c-881d-8c3243629d3c",
   "metadata": {},
   "outputs": [],
   "source": []
  },
  {
   "cell_type": "code",
   "execution_count": null,
   "id": "f4058e0e-753c-4477-8032-4992e090ade6",
   "metadata": {},
   "outputs": [],
   "source": []
  }
 ],
 "metadata": {
  "kernelspec": {
   "display_name": "Python 3 (ipykernel)",
   "language": "python",
   "name": "python3"
  },
  "language_info": {
   "codemirror_mode": {
    "name": "ipython",
    "version": 3
   },
   "file_extension": ".py",
   "mimetype": "text/x-python",
   "name": "python",
   "nbconvert_exporter": "python",
   "pygments_lexer": "ipython3",
   "version": "3.12.7"
  }
 },
 "nbformat": 4,
 "nbformat_minor": 5
}
